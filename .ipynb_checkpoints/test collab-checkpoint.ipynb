{
 "cells": [
  {
   "cell_type": "code",
   "execution_count": 1,
   "metadata": {
    "executionInfo": {
     "elapsed": 16,
     "status": "ok",
     "timestamp": 1641397540271,
     "user": {
      "displayName": "Nicolas Dunand",
      "photoUrl": "https://lh3.googleusercontent.com/a-/AOh14GgGXiHFjeZHjDUXK-hBtg0F3WSzvMgO8JeJCCrQOJg=s64",
      "userId": "01803061682655304958"
     },
     "user_tz": -60
    },
    "id": "gtYovDrx20bR"
   },
   "outputs": [],
   "source": [
    "a = 1"
   ]
  },
  {
   "cell_type": "code",
   "execution_count": 5,
   "metadata": {
    "executionInfo": {
     "elapsed": 16,
     "status": "ok",
     "timestamp": 1641397540268,
     "user": {
      "displayName": "Nicolas Dunand",
      "photoUrl": "https://lh3.googleusercontent.com/a-/AOh14GgGXiHFjeZHjDUXK-hBtg0F3WSzvMgO8JeJCCrQOJg=s64",
      "userId": "01803061682655304958"
     },
     "user_tz": -60
    },
    "id": "J4506f1d6rZP"
   },
   "outputs": [],
   "source": [
    "b = 3"
   ]
  },
  {
   "cell_type": "code",
   "execution_count": 6,
   "metadata": {
    "executionInfo": {
     "elapsed": 402,
     "status": "ok",
     "timestamp": 1641397546443,
     "user": {
      "displayName": "Nicolas Dunand",
      "photoUrl": "https://lh3.googleusercontent.com/a-/AOh14GgGXiHFjeZHjDUXK-hBtg0F3WSzvMgO8JeJCCrQOJg=s64",
      "userId": "01803061682655304958"
     },
     "user_tz": -60
    },
    "id": "0XytR2Dc6sT3"
   },
   "outputs": [],
   "source": [
    "c = a + b"
   ]
  },
  {
   "cell_type": "code",
   "execution_count": 7,
   "metadata": {
    "colab": {
     "base_uri": "https://localhost:8080/"
    },
    "executionInfo": {
     "elapsed": 13,
     "status": "ok",
     "timestamp": 1641397548790,
     "user": {
      "displayName": "Nicolas Dunand",
      "photoUrl": "https://lh3.googleusercontent.com/a-/AOh14GgGXiHFjeZHjDUXK-hBtg0F3WSzvMgO8JeJCCrQOJg=s64",
      "userId": "01803061682655304958"
     },
     "user_tz": -60
    },
    "id": "_ca0TYfd6unl",
    "outputId": "7e4d3d5e-e5c1-4789-e111-b647c954865b"
   },
   "outputs": [
    {
     "data": {
      "text/plain": [
       "4"
      ]
     },
     "execution_count": 7,
     "metadata": {},
     "output_type": "execute_result"
    }
   ],
   "source": [
    "c"
   ]
  },
  {
   "cell_type": "code",
   "execution_count": null,
   "metadata": {
    "id": "A5mhzoGQ6vBo"
   },
   "outputs": [],
   "source": []
  }
 ],
 "metadata": {
  "colab": {
   "authorship_tag": "ABX9TyPpL8RDiBfOPybmEeIbic7T",
   "collapsed_sections": [],
   "name": "test collab.ipynb",
   "provenance": []
  },
  "kernelspec": {
   "display_name": "Python 3 (ipykernel)",
   "language": "python",
   "name": "python3"
  },
  "language_info": {
   "codemirror_mode": {
    "name": "ipython",
    "version": 3
   },
   "file_extension": ".py",
   "mimetype": "text/x-python",
   "name": "python",
   "nbconvert_exporter": "python",
   "pygments_lexer": "ipython3",
   "version": "3.7.7"
  }
 },
 "nbformat": 4,
 "nbformat_minor": 1
}
